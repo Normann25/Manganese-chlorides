{
 "cells": [
  {
   "cell_type": "code",
   "execution_count": 20,
   "metadata": {},
   "outputs": [],
   "source": [
    "import matplotlib.pyplot as plt\n",
    "import pandas as pd\n",
    "import numpy as np\n",
    "import seaborn as sns\n",
    "from matplotlib.ticker import (MultipleLocator, AutoMinorLocator)\n",
    "from matplotlib import rc\n",
    "from scipy.signal import find_peaks \n",
    "from cProfile import label"
   ]
  },
  {
   "cell_type": "code",
   "execution_count": 1,
   "metadata": {},
   "outputs": [
    {
     "name": "stdout",
     "output_type": "stream",
     "text": [
      "11.974766867800328 0.0008350893266147506 0.8350893266147505\n",
      "2.0877233165368763\n"
     ]
    }
   ],
   "source": [
    "rho_HCl = 1180 #g/L\n",
    "conc = 0.37 #%\n",
    "M_w = 36.46 #g/mol\n",
    "c1 = 0.1 #mol/L\n",
    "V1 = 0.1 #L\n",
    "c_hcl = rho_HCl/M_w*conc\n",
    "V2 = (c1*V1)/c_hcl\n",
    "print(c_hcl, V2, V2*1000)\n",
    "V3 = (c1*0.25)/c_hcl\n",
    "print(V3*1000)\n",
    "\n",
    "e_A = 0.0001\n",
    "e_WL = 0.1\n",
    "e_V = 0.04/1000\n",
    "e_m = 0.001"
   ]
  },
  {
   "cell_type": "code",
   "execution_count": 53,
   "metadata": {},
   "outputs": [],
   "source": [
    "MnCl2_01M_HCl_path = \"./MnCl2_in_HCl.CSV\"\n",
    "MnCl2_hcl=pd.read_csv(MnCl2_01M_HCl_path, sep=';', decimal=',', index_col = 0)\n",
    "# display(MnCl2_hcl)"
   ]
  },
  {
   "cell_type": "code",
   "execution_count": null,
   "metadata": {},
   "outputs": [],
   "source": [
    "V_array = np.full(7, 0.01)\n",
    "m_array = np.array([6.096, 3.300, 1.644, 0.853, 0.436, 0.229, 0.114])\n",
    "WL_full = np.array([202, 309.2, 335.8, 355.6, 400.2, 432.0, 525.4, \n",
    "                    235, 313.8, 339.4, 358.4, 406.0, 432.6, 529.2]).reshape(2,7)\n",
    "A_peak = np.array([1.6172, 0.0169, 0.0211, 0.0196, 0.0186, 0.009, 0.0098,  \n",
    "                    2.2859, 0.0882, 0.1032, 0.1618, 0.1026, 0.0632, 0.0676]).reshape(2,7)"
   ]
  },
  {
   "cell_type": "code",
   "execution_count": 100,
   "metadata": {},
   "outputs": [],
   "source": [
    "\n",
    "def conc_MnCl2(m, V):\n",
    "  c = m/(197.91*V)\n",
    "  return c\n",
    "\n",
    "def epsilon(A, c):\n",
    "  eps = A/c\n",
    "  return eps\n",
    "\n",
    "def H_conc(pH, c, V):\n",
    "  c_H = 10**(-pH)\n",
    "  V_H = (c*V)/c_H\n",
    "  return c_H, V_H\n",
    "\n",
    "def energy(wl):\n",
    "  E = ((6.626*10**(-34))*(2.998*10**(10)))/wl\n",
    "  eV = E*6.2415*10**(18)\n",
    "  return E, eV\n",
    "\n",
    "def eprop(c, e_m, m, e_V, V, eps, e_A, A):\n",
    "  e_conc = c*np.sqrt(((e_m/m)**(2))+((e_V/V)**(2)))\n",
    "  e_eps = eps*np.sqrt((e_A/A)**(2)+(e_conc/c)**(2))\n",
    "  return e_conc, e_eps\n",
    "\n",
    "def E_range(E_high, E_low):\n",
    "  E_mid = (E_high + E_low)/2\n",
    "  E_un = (E_high - E_low)/2\n",
    "  return E_mid, E_un"
   ]
  },
  {
   "cell_type": "code",
   "execution_count": 102,
   "metadata": {},
   "outputs": [
    {
     "name": "stdout",
     "output_type": "stream",
     "text": [
      "[3.08018796 1.66742459 0.83068061 0.43100399 0.22030216 0.11570916\n",
      " 0.05760194]\n"
     ]
    }
   ],
   "source": [
    "c_list = conc_MnCl2(m_array, V_array)\n",
    "print(c_list)"
   ]
  },
  {
   "cell_type": "code",
   "execution_count": 103,
   "metadata": {},
   "outputs": [
    {
     "name": "stdout",
     "output_type": "stream",
     "text": [
      "[9.14355896e-26 6.37747385e-26 5.88427510e-26 5.56444076e-26\n",
      " 4.92825011e-26 4.59513245e-26 3.76730626e-26]\n",
      "[6.90474704e-27 4.70888920e-28 3.13735047e-28 2.18213363e-28\n",
      " 3.54550368e-28 3.18884972e-29 1.35745911e-28]\n",
      "[5.70695232e-07 3.98050030e-07 3.67267030e-07 3.47304570e-07\n",
      " 3.07596731e-07 2.86805192e-07 2.35136420e-07]\n",
      "[4.30959787e-08 2.93905319e-09 1.95817729e-09 1.36197871e-09\n",
      " 2.21292612e-09 1.99032055e-10 8.47258105e-10]\n"
     ]
    }
   ],
   "source": [
    "\n",
    "E_j, E_eV = energy(WL_full)\n",
    "\n",
    "E_mid, E_un= E_range(E_j[0], E_j[1])\n",
    "eV_mid, eV_un = E_range(E_eV[0], E_eV[1])\n",
    "print(E_mid)\n",
    "print(E_un)\n",
    "print(eV_mid) \n",
    "print(eV_un)"
   ]
  },
  {
   "cell_type": "code",
   "execution_count": 104,
   "metadata": {},
   "outputs": [
    {
     "name": "stdout",
     "output_type": "stream",
     "text": [
      "[[0.52503289 0.01013539 0.02540086 0.04547522 0.0844295  0.07778122\n",
      "  0.17013316]\n",
      " [0.74213003 0.05289595 0.12423547 0.37540256 0.46572399 0.54619703\n",
      "  1.17357158]]\n"
     ]
    }
   ],
   "source": [
    "\n",
    "eps = epsilon(A_peak, c_list)\n",
    "print(eps)"
   ]
  },
  {
   "cell_type": "code",
   "execution_count": 105,
   "metadata": {},
   "outputs": [
    {
     "name": "stdout",
     "output_type": "stream",
     "text": [
      "[0.01233111 0.00668881 0.00336092 0.00179654 0.00101579 0.00068522\n",
      " 0.00055533]\n",
      "[[2.10214761e-03 7.24553619e-05 1.58284861e-04 2.99602605e-04\n",
      "  5.97994368e-04 9.79320389e-04 2.38835709e-03]\n",
      " [2.97119279e-03 2.20502508e-04 5.16869466e-04 1.58188181e-03\n",
      "  2.19486284e-03 3.34799864e-03 1.14466884e-02]]\n"
     ]
    }
   ],
   "source": [
    "\n",
    "error_conc, error_eps = eprop(c_list, e_m, m_array, e_V, V_array, eps, e_A, A_peak)\n",
    "print(error_conc)\n",
    "print(error_eps)"
   ]
  },
  {
   "cell_type": "code",
   "execution_count": 34,
   "metadata": {},
   "outputs": [
    {
     "name": "stdout",
     "output_type": "stream",
     "text": [
      "1.9791e-05 1.736052639893726e-06\n",
      "8.68026319946863e-07 4.340131599734315e-07\n"
     ]
    }
   ],
   "source": [
    "m = 10**(-5)*197.91*0.01\n",
    "V_1 = (0.01*10**(-5))/0.05760194\n",
    "print(m, V_1)\n",
    "print(V_1/2, V_1/4)"
   ]
  }
 ],
 "metadata": {
  "kernelspec": {
   "display_name": "Python 3.10.8 64-bit (microsoft store)",
   "language": "python",
   "name": "python3"
  },
  "language_info": {
   "codemirror_mode": {
    "name": "ipython",
    "version": 3
   },
   "file_extension": ".py",
   "mimetype": "text/x-python",
   "name": "python",
   "nbconvert_exporter": "python",
   "pygments_lexer": "ipython3",
   "version": "3.10.9 (tags/v3.10.9:1dd9be6, Dec  6 2022, 20:01:21) [MSC v.1934 64 bit (AMD64)]"
  },
  "orig_nbformat": 4,
  "vscode": {
   "interpreter": {
    "hash": "0b8e740bacd96bdec367b692aed50949d909799f61a534f670643a2d03c9b3a8"
   }
  }
 },
 "nbformat": 4,
 "nbformat_minor": 2
}
