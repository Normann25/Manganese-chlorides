{
 "cells": [
  {
   "cell_type": "code",
   "execution_count": 5,
   "metadata": {},
   "outputs": [],
   "source": [
    "import matplotlib.pyplot as plt\n",
    "plt.rcParams['font.family'] = 'Arial'\n",
    "import matplotlib as mpl\n",
    "import pandas as pd\n",
    "import numpy as np\n",
    "import seaborn as sns\n",
    "from matplotlib.ticker import (MultipleLocator, AutoMinorLocator)\n",
    "import os, sys\n",
    "sys.path.append('..')"
   ]
  },
  {
   "cell_type": "code",
   "execution_count": 6,
   "metadata": {},
   "outputs": [],
   "source": [
    "path = '../../../../KU/Bachelor+Research/Data/Axetris/Own setup/'"
   ]
  },
  {
   "cell_type": "code",
   "execution_count": 7,
   "metadata": {},
   "outputs": [],
   "source": [
    "def read_data(path):\n",
    "    files = os.listdir(path)\n",
    "    data_dict = {}\n",
    "\n",
    "    for file in files:\n",
    "        if 'Leak_test' in file:\n",
    "            name = file.split('.')[0]\n",
    "            with open(os.path.join(path, file)) as f:\n",
    "                df = pd.read_csv(f, sep = '\\t')\n",
    "                # df = df.dropna()\n",
    "\n",
    "            data_dict[name] = df\n",
    "    return data_dict"
   ]
  },
  {
   "cell_type": "code",
   "execution_count": 8,
   "metadata": {},
   "outputs": [
    {
     "data": {
      "text/plain": [
       "{'Leak_test1_05032024':           Seconds    CH4 [ppm]\n",
       " 0     4324.415934     0.000000\n",
       " 1     4324.891036    -0.280000\n",
       " 2     4325.382496    -0.200000\n",
       " 3     4325.886007     0.000000\n",
       " 4     4326.358267    -0.030000\n",
       " ...           ...          ...\n",
       " 7930  8200.940476  9293.589844\n",
       " 7931  8201.411284  9194.519531\n",
       " 7932  8201.912259  9110.649414\n",
       " 7933  8202.385701  9009.490234\n",
       " 7934  8202.878257  8932.040039\n",
       " \n",
       " [7935 rows x 2 columns],\n",
       " 'Leak_test2_05032024':           Seconds    CH4 [ppm]\n",
       " 0        9.604650  4339.679688\n",
       " 1       10.099681  3959.339844\n",
       " 2       10.590488  3924.020020\n",
       " 3       11.063991  3878.289795\n",
       " 4       11.554741  3847.409912\n",
       " ...           ...          ...\n",
       " 3202  1574.788744  2005.359985\n",
       " 3203  1575.275112  2006.069946\n",
       " 3204  1575.759893  2000.359985\n",
       " 3205  1576.260608  2005.179932\n",
       " 3206  1576.729443  2002.919922\n",
       " \n",
       " [3207 rows x 2 columns]}"
      ]
     },
     "metadata": {},
     "output_type": "display_data"
    }
   ],
   "source": [
    "test = read_data(path)\n",
    "\n",
    "display(test)"
   ]
  }
 ],
 "metadata": {
  "kernelspec": {
   "display_name": "Python 3",
   "language": "python",
   "name": "python3"
  },
  "language_info": {
   "codemirror_mode": {
    "name": "ipython",
    "version": 3
   },
   "file_extension": ".py",
   "mimetype": "text/x-python",
   "name": "python",
   "nbconvert_exporter": "python",
   "pygments_lexer": "ipython3",
   "version": "3.10.11"
  }
 },
 "nbformat": 4,
 "nbformat_minor": 2
}
