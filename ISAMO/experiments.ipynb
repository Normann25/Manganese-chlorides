{
 "cells": [
  {
   "cell_type": "code",
   "execution_count": null,
   "metadata": {},
   "outputs": [],
   "source": [
    "import matplotlib.pyplot as plt\n",
    "plt.rcParams['font.family'] = 'Arial'\n",
    "import matplotlib as mpl\n",
    "import pandas as pd\n",
    "import numpy as np\n",
    "from iminuit import Minuit\n",
    "from scipy import stats\n",
    "from matplotlib.ticker import (MultipleLocator, AutoMinorLocator)\n",
    "import os, sys\n",
    "sys.path.append('..')\n",
    "from functions import read_data_exp, overview_plot_leak, dict_for_treatment, fit_exp, plot_fit\n",
    "from ExternalFunctions import Chi2Regression, BinnedLH, UnbinnedLH, nice_string_output, add_text_to_ax"
   ]
  }
 ],
 "metadata": {
  "language_info": {
   "name": "python"
  }
 },
 "nbformat": 4,
 "nbformat_minor": 2
}
